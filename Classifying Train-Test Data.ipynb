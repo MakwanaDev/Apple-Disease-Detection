{
 "cells": [
  {
   "cell_type": "code",
   "execution_count": 1,
   "id": "4fc59d3f",
   "metadata": {},
   "outputs": [
    {
     "name": "stdout",
     "output_type": "stream",
     "text": [
      "Collecting pandas\n",
      "  Downloading pandas-1.5.2-cp39-cp39-win_amd64.whl (10.9 MB)\n",
      "     ---------------------------------------- 10.9/10.9 MB 6.1 MB/s eta 0:00:00\n",
      "Requirement already satisfied: python-dateutil>=2.8.1 in c:\\users\\dmaka\\anaconda3\\envs\\tflow1\\lib\\site-packages (from pandas) (2.8.2)\n",
      "Collecting pytz>=2020.1\n",
      "  Downloading pytz-2022.7-py2.py3-none-any.whl (499 kB)\n",
      "     -------------------------------------- 499.4/499.4 kB 5.2 MB/s eta 0:00:00\n",
      "Requirement already satisfied: numpy>=1.20.3 in c:\\users\\dmaka\\anaconda3\\envs\\tflow1\\lib\\site-packages (from pandas) (1.22.4)\n",
      "Requirement already satisfied: six>=1.5 in c:\\users\\dmaka\\anaconda3\\envs\\tflow1\\lib\\site-packages (from python-dateutil>=2.8.1->pandas) (1.16.0)\n",
      "Installing collected packages: pytz, pandas\n",
      "Successfully installed pandas-1.5.2 pytz-2022.7\n"
     ]
    }
   ],
   "source": [
    "!pip install pandas"
   ]
  },
  {
   "cell_type": "code",
   "execution_count": 1,
   "id": "c46b7298",
   "metadata": {},
   "outputs": [],
   "source": [
    "import cv2\n",
    "import pandas as pd\n",
    "import os\n",
    "from os import listdir"
   ]
  },
  {
   "cell_type": "code",
   "execution_count": 5,
   "id": "2053071c",
   "metadata": {},
   "outputs": [
    {
     "data": {
      "text/plain": [
       "1"
      ]
     },
     "execution_count": 5,
     "metadata": {},
     "output_type": "execute_result"
    }
   ],
   "source": [
    "Train_csv = pd.read_csv('train.csv')\n",
    "\n",
    "Train_csv.iloc[0]['scab']"
   ]
  },
  {
   "cell_type": "code",
   "execution_count": 6,
   "id": "ef096782",
   "metadata": {},
   "outputs": [
    {
     "data": {
      "text/html": [
       "<div>\n",
       "<style scoped>\n",
       "    .dataframe tbody tr th:only-of-type {\n",
       "        vertical-align: middle;\n",
       "    }\n",
       "\n",
       "    .dataframe tbody tr th {\n",
       "        vertical-align: top;\n",
       "    }\n",
       "\n",
       "    .dataframe thead th {\n",
       "        text-align: right;\n",
       "    }\n",
       "</style>\n",
       "<table border=\"1\" class=\"dataframe\">\n",
       "  <thead>\n",
       "    <tr style=\"text-align: right;\">\n",
       "      <th></th>\n",
       "      <th>image_id</th>\n",
       "      <th>healthy</th>\n",
       "      <th>multiple_diseases</th>\n",
       "      <th>rust</th>\n",
       "      <th>scab</th>\n",
       "    </tr>\n",
       "  </thead>\n",
       "  <tbody>\n",
       "    <tr>\n",
       "      <th>0</th>\n",
       "      <td>Train_0</td>\n",
       "      <td>0</td>\n",
       "      <td>0</td>\n",
       "      <td>0</td>\n",
       "      <td>1</td>\n",
       "    </tr>\n",
       "    <tr>\n",
       "      <th>1</th>\n",
       "      <td>Train_1</td>\n",
       "      <td>0</td>\n",
       "      <td>1</td>\n",
       "      <td>0</td>\n",
       "      <td>0</td>\n",
       "    </tr>\n",
       "    <tr>\n",
       "      <th>2</th>\n",
       "      <td>Train_2</td>\n",
       "      <td>1</td>\n",
       "      <td>0</td>\n",
       "      <td>0</td>\n",
       "      <td>0</td>\n",
       "    </tr>\n",
       "    <tr>\n",
       "      <th>3</th>\n",
       "      <td>Train_3</td>\n",
       "      <td>0</td>\n",
       "      <td>0</td>\n",
       "      <td>1</td>\n",
       "      <td>0</td>\n",
       "    </tr>\n",
       "    <tr>\n",
       "      <th>4</th>\n",
       "      <td>Train_4</td>\n",
       "      <td>1</td>\n",
       "      <td>0</td>\n",
       "      <td>0</td>\n",
       "      <td>0</td>\n",
       "    </tr>\n",
       "    <tr>\n",
       "      <th>...</th>\n",
       "      <td>...</td>\n",
       "      <td>...</td>\n",
       "      <td>...</td>\n",
       "      <td>...</td>\n",
       "      <td>...</td>\n",
       "    </tr>\n",
       "    <tr>\n",
       "      <th>1816</th>\n",
       "      <td>Train_1816</td>\n",
       "      <td>0</td>\n",
       "      <td>0</td>\n",
       "      <td>0</td>\n",
       "      <td>1</td>\n",
       "    </tr>\n",
       "    <tr>\n",
       "      <th>1817</th>\n",
       "      <td>Train_1817</td>\n",
       "      <td>1</td>\n",
       "      <td>0</td>\n",
       "      <td>0</td>\n",
       "      <td>0</td>\n",
       "    </tr>\n",
       "    <tr>\n",
       "      <th>1818</th>\n",
       "      <td>Train_1818</td>\n",
       "      <td>1</td>\n",
       "      <td>0</td>\n",
       "      <td>0</td>\n",
       "      <td>0</td>\n",
       "    </tr>\n",
       "    <tr>\n",
       "      <th>1819</th>\n",
       "      <td>Train_1819</td>\n",
       "      <td>0</td>\n",
       "      <td>0</td>\n",
       "      <td>1</td>\n",
       "      <td>0</td>\n",
       "    </tr>\n",
       "    <tr>\n",
       "      <th>1820</th>\n",
       "      <td>Train_1820</td>\n",
       "      <td>0</td>\n",
       "      <td>0</td>\n",
       "      <td>0</td>\n",
       "      <td>1</td>\n",
       "    </tr>\n",
       "  </tbody>\n",
       "</table>\n",
       "<p>1821 rows × 5 columns</p>\n",
       "</div>"
      ],
      "text/plain": [
       "        image_id  healthy  multiple_diseases  rust  scab\n",
       "0        Train_0        0                  0     0     1\n",
       "1        Train_1        0                  1     0     0\n",
       "2        Train_2        1                  0     0     0\n",
       "3        Train_3        0                  0     1     0\n",
       "4        Train_4        1                  0     0     0\n",
       "...          ...      ...                ...   ...   ...\n",
       "1816  Train_1816        0                  0     0     1\n",
       "1817  Train_1817        1                  0     0     0\n",
       "1818  Train_1818        1                  0     0     0\n",
       "1819  Train_1819        0                  0     1     0\n",
       "1820  Train_1820        0                  0     0     1\n",
       "\n",
       "[1821 rows x 5 columns]"
      ]
     },
     "execution_count": 6,
     "metadata": {},
     "output_type": "execute_result"
    }
   ],
   "source": [
    "Train_csv[:1821]"
   ]
  },
  {
   "cell_type": "code",
   "execution_count": 5,
   "id": "c28c47be",
   "metadata": {},
   "outputs": [],
   "source": [
    "folder = 'E:/Self-Learning/Projects AI/Apple Leaf Diseases/Data/images'\n",
    "lst = []\n",
    "St = set(os.listdir(folder))"
   ]
  },
  {
   "cell_type": "code",
   "execution_count": 7,
   "id": "71b663d7",
   "metadata": {},
   "outputs": [],
   "source": [
    "import re\n",
    "\n",
    "def sorted_nicely(l): \n",
    "    \"\"\" Sort the given iterable in the way that humans expect.\"\"\" \n",
    "    convert = lambda text: int(text) if text.isdigit() else text \n",
    "    alphanum_key = lambda key: [ convert(c) for c in re.split('([0-9]+)', key) ] \n",
    "    return sorted(l, key = alphanum_key)"
   ]
  },
  {
   "cell_type": "code",
   "execution_count": 8,
   "id": "8c96c50f",
   "metadata": {},
   "outputs": [],
   "source": [
    "for a in sorted_nicely(St):\n",
    "    lst.append(a)"
   ]
  },
  {
   "cell_type": "code",
   "execution_count": 10,
   "id": "972deb83",
   "metadata": {},
   "outputs": [],
   "source": [
    "lst = lst[4:]"
   ]
  },
  {
   "cell_type": "code",
   "execution_count": 16,
   "id": "88458795",
   "metadata": {},
   "outputs": [],
   "source": [
    "for i,img in enumerate(lst):\n",
    "    Im = cv2.imread(folder+'/'+lst[i])\n",
    "#     print(folder+lst[i])\n",
    "    if Train_csv.iloc[i]['healthy'] == 1:\n",
    "        cv2.imwrite(os.path.join(folder+'/'+'Healthy/' , lst[i]) , Im)\n",
    "    elif Train_csv.iloc[i]['multiple_diseases'] == 1:\n",
    "        cv2.imwrite(os.path.join(folder+'/'+'Multiple/' , lst[i]) , Im)\n",
    "    elif Train_csv.iloc[i]['rust'] == 1:\n",
    "        cv2.imwrite(os.path.join(folder+'/'+'Rust/' , lst[i]) , Im)\n",
    "    elif Train_csv.iloc[i]['scab'] == 1:\n",
    "        cv2.imwrite(os.path.join(folder+'/'+'Scab/' , lst[i]) , Im)\n",
    "#     print(folder+'/'+img)"
   ]
  },
  {
   "cell_type": "code",
   "execution_count": 16,
   "id": "8c4f581c",
   "metadata": {},
   "outputs": [
    {
     "data": {
      "text/plain": [
       "WindowsPath('Data/images')"
      ]
     },
     "execution_count": 16,
     "metadata": {},
     "output_type": "execute_result"
    }
   ],
   "source": [
    "import pathlib\n",
    "data_dir = pathlib.Path(folder)\n",
    "data_dir"
   ]
  },
  {
   "cell_type": "code",
   "execution_count": 20,
   "id": "9472b09a",
   "metadata": {},
   "outputs": [
    {
     "data": {
      "text/plain": [
       "[WindowsPath('Data/images/Train_0.jpg'),\n",
       " WindowsPath('Data/images/Train_1.jpg'),\n",
       " WindowsPath('Data/images/Train_10.jpg'),\n",
       " WindowsPath('Data/images/Train_100.jpg'),\n",
       " WindowsPath('Data/images/Train_1000.jpg'),\n",
       " WindowsPath('Data/images/Train_1001.jpg'),\n",
       " WindowsPath('Data/images/Train_1002.jpg'),\n",
       " WindowsPath('Data/images/Train_1003.jpg'),\n",
       " WindowsPath('Data/images/Train_1004.jpg'),\n",
       " WindowsPath('Data/images/Train_1005.jpg')]"
      ]
     },
     "execution_count": 20,
     "metadata": {},
     "output_type": "execute_result"
    }
   ],
   "source": [
    "list(data_dir.glob('*.jpg'))[:10]"
   ]
  },
  {
   "cell_type": "markdown",
   "id": "e365e6b9",
   "metadata": {},
   "source": [
    "### For Test Data"
   ]
  },
  {
   "cell_type": "code",
   "execution_count": 10,
   "id": "342bdab2",
   "metadata": {},
   "outputs": [
    {
     "data": {
      "text/html": [
       "<div>\n",
       "<style scoped>\n",
       "    .dataframe tbody tr th:only-of-type {\n",
       "        vertical-align: middle;\n",
       "    }\n",
       "\n",
       "    .dataframe tbody tr th {\n",
       "        vertical-align: top;\n",
       "    }\n",
       "\n",
       "    .dataframe thead th {\n",
       "        text-align: right;\n",
       "    }\n",
       "</style>\n",
       "<table border=\"1\" class=\"dataframe\">\n",
       "  <thead>\n",
       "    <tr style=\"text-align: right;\">\n",
       "      <th></th>\n",
       "      <th>image_id</th>\n",
       "      <th>healthy</th>\n",
       "      <th>multiple_diseases</th>\n",
       "      <th>rust</th>\n",
       "      <th>scab</th>\n",
       "    </tr>\n",
       "  </thead>\n",
       "  <tbody>\n",
       "    <tr>\n",
       "      <th>1821</th>\n",
       "      <td>Test_0</td>\n",
       "      <td>0</td>\n",
       "      <td>0</td>\n",
       "      <td>1</td>\n",
       "      <td>0</td>\n",
       "    </tr>\n",
       "    <tr>\n",
       "      <th>1822</th>\n",
       "      <td>Test_1</td>\n",
       "      <td>0</td>\n",
       "      <td>0</td>\n",
       "      <td>1</td>\n",
       "      <td>0</td>\n",
       "    </tr>\n",
       "    <tr>\n",
       "      <th>1823</th>\n",
       "      <td>Test_2</td>\n",
       "      <td>0</td>\n",
       "      <td>0</td>\n",
       "      <td>0</td>\n",
       "      <td>1</td>\n",
       "    </tr>\n",
       "    <tr>\n",
       "      <th>1824</th>\n",
       "      <td>Test_3</td>\n",
       "      <td>1</td>\n",
       "      <td>0</td>\n",
       "      <td>0</td>\n",
       "      <td>0</td>\n",
       "    </tr>\n",
       "    <tr>\n",
       "      <th>1825</th>\n",
       "      <td>Test_4</td>\n",
       "      <td>0</td>\n",
       "      <td>0</td>\n",
       "      <td>1</td>\n",
       "      <td>0</td>\n",
       "    </tr>\n",
       "    <tr>\n",
       "      <th>...</th>\n",
       "      <td>...</td>\n",
       "      <td>...</td>\n",
       "      <td>...</td>\n",
       "      <td>...</td>\n",
       "      <td>...</td>\n",
       "    </tr>\n",
       "    <tr>\n",
       "      <th>3637</th>\n",
       "      <td>Test_1816</td>\n",
       "      <td>0</td>\n",
       "      <td>0</td>\n",
       "      <td>1</td>\n",
       "      <td>0</td>\n",
       "    </tr>\n",
       "    <tr>\n",
       "      <th>3638</th>\n",
       "      <td>Test_1817</td>\n",
       "      <td>0</td>\n",
       "      <td>0</td>\n",
       "      <td>0</td>\n",
       "      <td>1</td>\n",
       "    </tr>\n",
       "    <tr>\n",
       "      <th>3639</th>\n",
       "      <td>Test_1818</td>\n",
       "      <td>0</td>\n",
       "      <td>0</td>\n",
       "      <td>1</td>\n",
       "      <td>0</td>\n",
       "    </tr>\n",
       "    <tr>\n",
       "      <th>3640</th>\n",
       "      <td>Test_1819</td>\n",
       "      <td>1</td>\n",
       "      <td>0</td>\n",
       "      <td>0</td>\n",
       "      <td>0</td>\n",
       "    </tr>\n",
       "    <tr>\n",
       "      <th>3641</th>\n",
       "      <td>Test_1820</td>\n",
       "      <td>0</td>\n",
       "      <td>0</td>\n",
       "      <td>0</td>\n",
       "      <td>1</td>\n",
       "    </tr>\n",
       "  </tbody>\n",
       "</table>\n",
       "<p>1821 rows × 5 columns</p>\n",
       "</div>"
      ],
      "text/plain": [
       "       image_id  healthy  multiple_diseases  rust  scab\n",
       "1821     Test_0        0                  0     1     0\n",
       "1822     Test_1        0                  0     1     0\n",
       "1823     Test_2        0                  0     0     1\n",
       "1824     Test_3        1                  0     0     0\n",
       "1825     Test_4        0                  0     1     0\n",
       "...         ...      ...                ...   ...   ...\n",
       "3637  Test_1816        0                  0     1     0\n",
       "3638  Test_1817        0                  0     0     1\n",
       "3639  Test_1818        0                  0     1     0\n",
       "3640  Test_1819        1                  0     0     0\n",
       "3641  Test_1820        0                  0     0     1\n",
       "\n",
       "[1821 rows x 5 columns]"
      ]
     },
     "execution_count": 10,
     "metadata": {},
     "output_type": "execute_result"
    }
   ],
   "source": [
    "Test_csv = Train_csv[1821:3642]\n",
    "Test_csv"
   ]
  },
  {
   "cell_type": "code",
   "execution_count": 21,
   "id": "1b402e46",
   "metadata": {},
   "outputs": [],
   "source": [
    "folder_test = 'E:/Self-Learning/Projects AI/Apple Leaf Diseases/Data/Test'\n",
    "lst1 = []\n",
    "St1 = set(os.listdir(folder_test))"
   ]
  },
  {
   "cell_type": "code",
   "execution_count": 22,
   "id": "7de0e4c8",
   "metadata": {},
   "outputs": [],
   "source": [
    "import re\n",
    "\n",
    "def sorted_nicely(l): \n",
    "    \"\"\" Sort the given iterable in the way that humans expect.\"\"\" \n",
    "    convert = lambda text: int(text) if text.isdigit() else text \n",
    "    alphanum_key = lambda key: [ convert(c) for c in re.split('([0-9]+)', key) ] \n",
    "    return sorted(l, key = alphanum_key)"
   ]
  },
  {
   "cell_type": "code",
   "execution_count": 23,
   "id": "bcc91a19",
   "metadata": {},
   "outputs": [],
   "source": [
    "for a in sorted_nicely(St1):\n",
    "    lst1.append(a)"
   ]
  },
  {
   "cell_type": "code",
   "execution_count": 25,
   "id": "048802db",
   "metadata": {},
   "outputs": [
    {
     "data": {
      "text/plain": [
       "1821"
      ]
     },
     "execution_count": 25,
     "metadata": {},
     "output_type": "execute_result"
    }
   ],
   "source": [
    "lst1 = lst1[4:]\n",
    "len(lst1)"
   ]
  },
  {
   "cell_type": "code",
   "execution_count": 29,
   "id": "4d23adf2",
   "metadata": {},
   "outputs": [],
   "source": [
    "for i,img in enumerate(lst1):\n",
    "    Im = cv2.imread(folder_test+'/'+lst1[i])\n",
    "#     print(folder+lst[i])\n",
    "    if Test_csv.iloc[i]['healthy'] == 1:\n",
    "        cv2.imwrite(os.path.join(folder_test+'/'+'Healthy/' , lst1[i]) , Im)\n",
    "    elif Test_csv.iloc[i]['multiple_diseases'] == 1:\n",
    "        cv2.imwrite(os.path.join(folder_test+'/'+'Multiple/' , lst1[i]) , Im)\n",
    "    elif Test_csv.iloc[i]['rust'] == 1:\n",
    "        cv2.imwrite(os.path.join(folder_test+'/'+'Rust/' , lst1[i]) , Im)\n",
    "    elif Test_csv.iloc[i]['scab'] == 1:\n",
    "        cv2.imwrite(os.path.join(folder_test+'/'+'Scab/' , lst1[i]) , Im)\n",
    "#     print(folder+'/'+img)"
   ]
  },
  {
   "cell_type": "code",
   "execution_count": null,
   "id": "263171b8",
   "metadata": {},
   "outputs": [],
   "source": []
  }
 ],
 "metadata": {
  "kernelspec": {
   "display_name": "Python 3 (ipykernel)",
   "language": "python",
   "name": "python3"
  },
  "language_info": {
   "codemirror_mode": {
    "name": "ipython",
    "version": 3
   },
   "file_extension": ".py",
   "mimetype": "text/x-python",
   "name": "python",
   "nbconvert_exporter": "python",
   "pygments_lexer": "ipython3",
   "version": "3.9.15"
  }
 },
 "nbformat": 4,
 "nbformat_minor": 5
}
